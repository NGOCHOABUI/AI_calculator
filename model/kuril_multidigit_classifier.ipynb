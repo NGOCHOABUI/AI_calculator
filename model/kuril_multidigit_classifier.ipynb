{
  "nbformat": 4,
  "nbformat_minor": 0,
  "metadata": {
    "kernelspec": {
      "display_name": "Python 3",
      "language": "python",
      "name": "python3"
    },
    "language_info": {
      "codemirror_mode": {
        "name": "ipython",
        "version": 3
      },
      "file_extension": ".py",
      "mimetype": "text/x-python",
      "name": "python",
      "nbconvert_exporter": "python",
      "pygments_lexer": "ipython3",
      "version": "3.7.6"
    },
    "colab": {
      "name": "kuril_multidigit_classifier.ipynb",
      "provenance": [],
      "collapsed_sections": [
        "-PA1vTCWGhXx",
        "9rxrx8kLGhX3",
        "Dh0tYmpyGhYC",
        "T18uavglGhYY",
        "CB_hnTkyGhYj",
        "eGvtWE_3h5ki",
        "UpZNFSBNiAg9",
        "mmwjVL8CGhYv",
        "-Ubx5BSPGhY2",
        "bJSX89sFGhY2",
        "jCArxVBgGhY6",
        "qe1bVAb2GhZE",
        "kDePDHf6GhZN"
      ]
    }
  },
  "cells": [
    {
      "cell_type": "markdown",
      "metadata": {
        "id": "gsWWMbzNGhXw",
        "colab_type": "text"
      },
      "source": [
        "# AI CALCULATOR\n",
        "\n",
        "🎲🎲🎲\n",
        "\n",
        "Complete a notebook to classify numbers (1-10) and 3 basic mathematics operators (+,-, and x)"
      ]
    },
    {
      "cell_type": "markdown",
      "metadata": {
        "id": "-PA1vTCWGhXx",
        "colab_type": "text"
      },
      "source": [
        "## IMPORT LIBRARIES"
      ]
    },
    {
      "cell_type": "code",
      "metadata": {
        "id": "zGOraFQjGhXy",
        "colab_type": "code",
        "colab": {
          "base_uri": "https://localhost:8080/",
          "height": 33
        },
        "outputId": "82794404-923b-4e1b-84b9-85d4cb628bea"
      },
      "source": [
        "import tensorflow as tf\n",
        "print(tf.__version__) #If not Tensorflow 2 !pip install tensorflow-gpu==2.1.0\n",
        "\n",
        "import shutil # copy, move file\n",
        "import os\n",
        "import pathlib\n",
        "\n",
        "import random\n",
        "import numpy as np\n",
        "\n",
        "from sklearn.model_selection import train_test_split\n",
        "\n",
        "import matplotlib.pylab as plt\n",
        "%matplotlib inline"
      ],
      "execution_count": null,
      "outputs": [
        {
          "output_type": "stream",
          "text": [
            "2.3.0\n"
          ],
          "name": "stdout"
        }
      ]
    },
    {
      "cell_type": "code",
      "metadata": {
        "id": "FEWId8Csi6wX",
        "colab_type": "code",
        "colab": {}
      },
      "source": [
        "# Path to data folder\n",
        "DATA_FOLDER = \"\""
      ],
      "execution_count": null,
      "outputs": []
    },
    {
      "cell_type": "markdown",
      "metadata": {
        "id": "9rxrx8kLGhX3",
        "colab_type": "text"
      },
      "source": [
        "## LOAD DATA"
      ]
    },
    {
      "cell_type": "code",
      "metadata": {
        "id": "daRB3V5gGhX8",
        "colab_type": "code",
        "colab": {}
      },
      "source": [
        "# Path to dataset\n",
        "data_root = pathlib.Path(DATA_FOLDER)\n",
        "\n",
        "# Find all image's path\n",
        "all_image_paths = list(data_root.glob(\"**/*\"))\n",
        "\n",
        "# Check if the path contains file\n",
        "all_image_paths = [str(path) for path in all_image_paths if path.is_file()]\n",
        "\n",
        "# Make sure data is well-shuffled\n",
        "random.shuffle(all_image_paths)\n",
        "\n",
        "# Count the number of images\n",
        "image_count = len(all_image_paths)\n",
        "\n",
        "print(f'There is total {image_count} images.')"
      ],
      "execution_count": null,
      "outputs": []
    },
    {
      "cell_type": "markdown",
      "metadata": {
        "id": "UF3lc4MFGhX_",
        "colab_type": "text"
      },
      "source": [
        "Our folder may contain other files that not image. Cross them out. "
      ]
    },
    {
      "cell_type": "code",
      "metadata": {
        "id": "CftWUFO0GhX_",
        "colab_type": "code",
        "colab": {}
      },
      "source": [
        "# Read image files and ignore DS_Store\n",
        "for index, image_path in enumerate(all_image_paths):\n",
        "    if (image_path.split('.')[1] != \"DS_Store\") :\n",
        "        try:\n",
        "            image = tf.io.read_file(image_path)\n",
        "            image = tf.image.decode_jpeg(image, channels=3)\n",
        "        except:\n",
        "            print(f'Image {all_image_paths[index]} is not readable.')\n",
        "        \n",
        "        if index % 3000 == 0 or index == image_count-1: \n",
        "            print(f'Finished scanning {index+1}/{image_count} files.')\n",
        "    else:\n",
        "        all_image_paths.remove(image_path)"
      ],
      "execution_count": null,
      "outputs": []
    },
    {
      "cell_type": "markdown",
      "metadata": {
        "id": "i9nmwLo1jDCE",
        "colab_type": "text"
      },
      "source": [
        "Now your all the image paths are in all_image_paths and ready for the training!"
      ]
    },
    {
      "cell_type": "markdown",
      "metadata": {
        "id": "Dh0tYmpyGhYC",
        "colab_type": "text"
      },
      "source": [
        "## PREPROCESSING "
      ]
    },
    {
      "cell_type": "markdown",
      "metadata": {
        "id": "DoJ4ZbqbGhYD",
        "colab_type": "text"
      },
      "source": [
        "### Labels\n",
        "\n",
        "**YOUR TASK:** CREATE A LIST all_image_labels that contains all the labels corresponding to the paths in all_image_paths. \n",
        "\n",
        "Hint: The label is the image's folder name - `pathlib.Path(path).parent.name`"
      ]
    },
    {
      "cell_type": "code",
      "metadata": {
        "id": "iLJcJYcJj_zh",
        "colab_type": "code",
        "colab": {}
      },
      "source": [
        "# YOUR CODE HERE"
      ],
      "execution_count": null,
      "outputs": []
    },
    {
      "cell_type": "markdown",
      "metadata": {
        "id": "y7K0MaIikBwG",
        "colab_type": "text"
      },
      "source": [
        "**YOUR TASK**: Count the number of images in each class."
      ]
    },
    {
      "cell_type": "code",
      "metadata": {
        "id": "smosmADFGhYV",
        "colab_type": "code",
        "colab": {}
      },
      "source": [
        "# YOUR CODE HERE "
      ],
      "execution_count": null,
      "outputs": []
    },
    {
      "cell_type": "markdown",
      "metadata": {
        "id": "T18uavglGhYY",
        "colab_type": "text"
      },
      "source": [
        "### Images\n",
        "\n",
        "**YOUR TASK**: Define the function that uses Tensorflow to \n",
        "* Read and decode image\n",
        "* Convert to grayscale\n",
        "* Normalize\n",
        "* Invert image (white background to black background)"
      ]
    },
    {
      "cell_type": "code",
      "metadata": {
        "id": "Vu8dvTFFGhYY",
        "colab_type": "code",
        "colab": {}
      },
      "source": [
        "# YOUR CODE HERE"
      ],
      "execution_count": null,
      "outputs": []
    },
    {
      "cell_type": "markdown",
      "metadata": {
        "id": "tjbJvGG4lCjg",
        "colab_type": "text"
      },
      "source": [
        "**YOUR TASK**: Plot a random image to see if the read and preprocess code works."
      ]
    },
    {
      "cell_type": "code",
      "metadata": {
        "id": "EZOSORS1GhYc",
        "colab_type": "code",
        "colab": {}
      },
      "source": [
        "# YOUR CODE HERE"
      ],
      "execution_count": null,
      "outputs": []
    },
    {
      "cell_type": "markdown",
      "metadata": {
        "id": "CB_hnTkyGhYj",
        "colab_type": "text"
      },
      "source": [
        "## CREATE DATASET"
      ]
    },
    {
      "cell_type": "markdown",
      "metadata": {
        "id": "eGvtWE_3h5ki",
        "colab_type": "text"
      },
      "source": [
        "### Split dataset\n",
        "\n",
        "**YOUR TASK**: Split the dataset into train-test with your chosen ratio. "
      ]
    },
    {
      "cell_type": "code",
      "metadata": {
        "id": "n-tH4NdTGhYe",
        "colab_type": "code",
        "colab": {}
      },
      "source": [
        "# YOUR CODE HERE"
      ],
      "execution_count": null,
      "outputs": []
    },
    {
      "cell_type": "markdown",
      "metadata": {
        "id": "UpZNFSBNiAg9",
        "colab_type": "text"
      },
      "source": [
        "### Flow dataset using tf.data.Dataset\n",
        "**YOUR TASK**: Complete the code"
      ]
    },
    {
      "cell_type": "code",
      "metadata": {
        "id": "RUolJaVwGhYk",
        "colab_type": "code",
        "colab": {}
      },
      "source": [
        "BATCH_SIZE = 32\n",
        "AUTOTUNE = tf.data.experimental.AUTOTUNE\n",
        "\n",
        "def create_ds(all_image_paths, all_image_labels):\n",
        "    \n",
        "    # prepare the dataset for pipeline with tensor_slices\n",
        "    ds = ______\n",
        "    \n",
        "    # map the load_and_preprocess_from_path_label function to the pipeline\n",
        "    image_label_ds = ds._________\n",
        "\n",
        "    # Setting a shuffle buffer size as large as the dataset ensures that the data is \n",
        "    # well-shuffled, so the order of training will be different for every epoch.\n",
        "    ds = image_label_ds.__________\n",
        "    \n",
        "    # `prefetch` lets the dataset fetch batches in the background while the model is training.\n",
        "    ds = ds.________\n",
        "    \n",
        "    return ds"
      ],
      "execution_count": null,
      "outputs": []
    },
    {
      "cell_type": "code",
      "metadata": {
        "id": "xJi9lx_wGhYp",
        "colab_type": "code",
        "colab": {}
      },
      "source": [
        "# create dataset for train set and test set\n",
        "train_ds = create_ds(train_image_paths, train_image_labels)\n",
        "test_ds = create_ds(test_image_paths, test_image_labels)"
      ],
      "execution_count": null,
      "outputs": []
    },
    {
      "cell_type": "markdown",
      "metadata": {
        "id": "mmwjVL8CGhYv",
        "colab_type": "text"
      },
      "source": [
        "## MODEL\n",
        "\n",
        "**YOUR TASK**: Build a CNN model and compile it."
      ]
    },
    {
      "cell_type": "code",
      "metadata": {
        "id": "nEf7BcLalwS_",
        "colab_type": "code",
        "colab": {}
      },
      "source": [
        "# YOUR CODE HERE"
      ],
      "execution_count": null,
      "outputs": []
    },
    {
      "cell_type": "markdown",
      "metadata": {
        "id": "-Ubx5BSPGhY2",
        "colab_type": "text"
      },
      "source": [
        "## TRAIN"
      ]
    },
    {
      "cell_type": "markdown",
      "metadata": {
        "id": "bJSX89sFGhY2",
        "colab_type": "text"
      },
      "source": [
        "### Callbacks"
      ]
    },
    {
      "cell_type": "code",
      "metadata": {
        "id": "SKgSze3CGhY3",
        "colab_type": "code",
        "colab": {}
      },
      "source": [
        "# Batch Stats Collector that inherits Keras Callback\n",
        "class CollectBatchStats(tf.keras.callbacks.Callback):\n",
        "    def __init__(self):\n",
        "        self.batch_losses = []\n",
        "        self.batch_acc = []\n",
        "        self.batch_val_losses = []\n",
        "        self.batch_val_acc = []\n",
        "\n",
        "    def on_train_batch_end(self, batch, logs=None):\n",
        "        self.batch_losses.append(logs['loss'])\n",
        "        self.batch_acc.append(logs['accuracy'])\n",
        "        # reset_metrics: the metrics returned will be only for this batch. \n",
        "        # If False, the metrics will be statefully accumulated across batches.\n",
        "        self.model.reset_metrics()\n",
        "  \n",
        "    def on_test_batch_end(self, batch, logs=None):\n",
        "        self.batch_val_losses.append(logs['loss'])\n",
        "        self.batch_val_acc.append(logs['accuracy'])\n",
        "        # reset_metrics: the metrics returned will be only for this batch. \n",
        "        # If False, the metrics will be statefully accumulated across batches.\n",
        "        self.model.reset_metrics()\n",
        "\n",
        "# Plot learning curve \n",
        "def plot_stats(training_stats, val_stats, x_label='Training Steps', stats='loss'):\n",
        "    stats, x_label = stats.title(), x_label.title()\n",
        "    legend_loc = 'upper right' if stats=='loss' else 'lower right'\n",
        "    training_steps = len(training_stats)\n",
        "    test_steps = len(val_stats)\n",
        "\n",
        "    plt.figure()\n",
        "    plt.ylabel(stats)\n",
        "    plt.xlabel(x_label)\n",
        "    plt.plot(training_stats, label='Training ' + stats)\n",
        "    plt.plot(np.linspace(0, training_steps, test_steps), val_stats, label='Validation ' + stats)\n",
        "    plt.ylim([0,max(plt.ylim())])\n",
        "    plt.legend(loc=legend_loc)\n",
        "    plt.show()"
      ],
      "execution_count": null,
      "outputs": []
    },
    {
      "cell_type": "markdown",
      "metadata": {
        "id": "jCArxVBgGhY6",
        "colab_type": "text"
      },
      "source": [
        "### Train Session"
      ]
    },
    {
      "cell_type": "code",
      "metadata": {
        "id": "HKhQUiKiGhY7",
        "colab_type": "code",
        "colab": {}
      },
      "source": [
        "# Calculate the number of steps to finish one epoch\n",
        "steps_per_epoch = ________\n",
        "val_steps_per_epoch = __________\n",
        "\n",
        "# Define callback\n",
        "batch_stats_callback = CollectBatchStats()"
      ],
      "execution_count": null,
      "outputs": []
    },
    {
      "cell_type": "code",
      "metadata": {
        "id": "1owt5DD3GhY9",
        "colab_type": "code",
        "colab": {}
      },
      "source": [
        "history = cnn_model.fit(train_ds, \n",
        "                        epochs=_____, \n",
        "                        steps_per_epoch=steps_per_epoch,\n",
        "                        callbacks = [batch_stats_callback],\n",
        "                        validation_data=test_ds,\n",
        "                        validation_steps=val_steps_per_epoch)"
      ],
      "execution_count": null,
      "outputs": []
    },
    {
      "cell_type": "code",
      "metadata": {
        "id": "HKKoK6TaGhZA",
        "colab_type": "code",
        "colab": {}
      },
      "source": [
        "# Visualize training session on batch \n",
        "plt.figure(figsize = (15, 10))\n",
        "\n",
        "plot_stats(batch_stats_callback.batch_losses, batch_stats_callback.batch_val_losses, stats='loss')\n",
        "plot_stats(batch_stats_callback.batch_acc, batch_stats_callback.batch_val_acc, stats='accuracy')"
      ],
      "execution_count": null,
      "outputs": []
    },
    {
      "cell_type": "code",
      "metadata": {
        "id": "G5MSQYbGGhZC",
        "colab_type": "code",
        "colab": {}
      },
      "source": [
        "plt.figure(figsize = (15, 10))\n",
        "\n",
        "plot_stats(history.history['loss'], history.history['val_loss'], x_label='Epochs', stats='loss')\n",
        "plot_stats(history.history['accuracy'], history.history['val_accuracy'], x_label='Epochs', stats='accuracy');"
      ],
      "execution_count": null,
      "outputs": []
    },
    {
      "cell_type": "markdown",
      "metadata": {
        "id": "qe1bVAb2GhZE",
        "colab_type": "text"
      },
      "source": [
        "## TEST"
      ]
    },
    {
      "cell_type": "code",
      "metadata": {
        "id": "z-8ebO4oGhZF",
        "colab_type": "code",
        "colab": {}
      },
      "source": [
        "# Take one batch to predict\n",
        "for image_batch, label_batch in test_ds.take(1):\n",
        "    print(\"Image batch shape: \", image_batch.shape)\n",
        "    print(\"Label batch shape: \", label_batch.shape)"
      ],
      "execution_count": null,
      "outputs": []
    },
    {
      "cell_type": "markdown",
      "metadata": {
        "id": "L0WmUxpfmXOF",
        "colab_type": "text"
      },
      "source": [
        "**YOUR TASK**: Predict image_batch"
      ]
    },
    {
      "cell_type": "code",
      "metadata": {
        "id": "P_rw_tGoGhZH",
        "colab_type": "code",
        "colab": {}
      },
      "source": [
        "# YOUR CODE HERE"
      ],
      "execution_count": null,
      "outputs": []
    },
    {
      "cell_type": "markdown",
      "metadata": {
        "id": "kDePDHf6GhZN",
        "colab_type": "text"
      },
      "source": [
        "## EXPORT\n",
        "\n",
        "**YOUR TASK**: Export the model"
      ]
    },
    {
      "cell_type": "code",
      "metadata": {
        "id": "_KhOj6zynAyt",
        "colab_type": "code",
        "colab": {}
      },
      "source": [
        "# YOUR CODE HERE"
      ],
      "execution_count": null,
      "outputs": []
    }
  ]
}